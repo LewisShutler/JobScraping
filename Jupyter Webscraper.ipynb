{
 "cells": [
  {
   "cell_type": "code",
   "execution_count": 1,
   "metadata": {},
   "outputs": [
    {
     "data": {
      "text/plain": [
       "12"
      ]
     },
     "execution_count": 1,
     "metadata": {},
     "output_type": "execute_result"
    }
   ],
   "source": [
    "4 * 3"
   ]
  },
  {
   "cell_type": "code",
   "execution_count": 2,
   "metadata": {},
   "outputs": [],
   "source": [
    "x = 10"
   ]
  },
  {
   "cell_type": "code",
   "execution_count": 3,
   "metadata": {},
   "outputs": [
    {
     "data": {
      "text/plain": [
       "100"
      ]
     },
     "execution_count": 3,
     "metadata": {},
     "output_type": "execute_result"
    }
   ],
   "source": [
    "x ** 2\n"
   ]
  },
  {
   "cell_type": "markdown",
   "metadata": {},
   "source": [
    "# Learning Jupyter \n",
    "- lots of stuff"
   ]
  },
  {
   "cell_type": "code",
   "execution_count": 4,
   "metadata": {},
   "outputs": [
    {
     "name": "stdout",
     "output_type": "stream",
     "text": [
      "https://www.indeed.co.uk/jobs?q=cleaner&l=dorset&sort=date&start=0\n",
      "<div class=\"jobsearch-SerpJobCard unifiedRow row result\" data-jk=\"c9265df94c27dd48\" data-tn-component=\"organicJob\" id=\"p_c9265df94c27dd48\">\n",
      " <h2 class=\"title\">\n",
      "  <a class=\"jobtitle turnstileLink\" data-tn-element=\"jobTitle\" href=\"/rc/clk?jk=c9265df94c27dd48&amp;fccid=8dfc9a51fd632bc0&amp;vjs=3\" id=\"jl_c9265df94c27dd48\" onclick=\"setRefineByCookie([]); return rclk(this,jobmap[0],true,1);\" onmousedown=\"return rclk(this,jobmap[0],1);\" rel=\"noopener nofollow\" target=\"_blank\" title=\"Cleaner\">\n",
      "   <b>\n",
      "    Cleaner\n",
      "   </b>\n",
      "  </a>\n",
      "  <span class=\"new\">\n",
      "   new\n",
      "  </span>\n",
      " </h2>\n",
      " <div class=\"sjcl\">\n",
      "  <div>\n",
      "   <span class=\"company\">\n",
      "    <a class=\"turnstileLink\" data-tn-element=\"companyName\" href=\"/cmp/O.c.s.\" onmousedown=\"this.href = appendParamsOnce(this.href, 'from=SERP&amp;campaignid=&amp;fromjk=c9265df94c27dd48&amp;jcid=895f383106baa1fa')\" rel=\"noopener\" target=\"_blank\">\n",
      "     O.C.S.\n",
      "    </a>\n",
      "   </span>\n",
      "   <span class=\"ratingsDisplay\">\n",
      "    <a class=\"ratingNumber\" data-tn-variant=\"cmplinktst2\" href=\"/cmp/O.c.s./reviews\" onmousedown=\"this.href = appendParamsOnce(this.href, '?campaignid=cmplinktst2&amp;from=SERP&amp;jt=Cleaner&amp;fromjk=c9265df94c27dd48&amp;jcid=895f383106baa1fa');\" rel=\"noopener\" target=\"_blank\" title=\"O.c.s. reviews\">\n",
      "     <span class=\"ratingsContent\">\n",
      "      3.7\n",
      "      <svg class=\"starIcon\" height=\"12px\" role=\"img\" width=\"12px\">\n",
      "       <g>\n",
      "        <path d=\"M 12.00,4.34 C 12.00,4.34 7.69,3.97 7.69,3.97 7.69,3.97 6.00,0.00 6.00,0.00 6.00,0.00 4.31,3.98 4.31,3.98 4.31,3.98 0.00,4.34 0.00,4.34 0.00,4.34 3.28,7.18 3.28,7.18 3.28,7.18 2.29,11.40 2.29,11.40 2.29,11.40 6.00,9.16 6.00,9.16 6.00,9.16 9.71,11.40 9.71,11.40 9.71,11.40 8.73,7.18 8.73,7.18 8.73,7.18 12.00,4.34 12.00,4.34 Z\" style=\"fill: #FFB103\">\n",
      "        </path>\n",
      "       </g>\n",
      "      </svg>\n",
      "     </span>\n",
      "    </a>\n",
      "   </span>\n",
      "  </div>\n",
      "  <div class=\"recJobLoc\" data-rc-loc=\"Poole\" id=\"recJobLoc_c9265df94c27dd48\" style=\"display: none\">\n",
      "  </div>\n",
      "  <span class=\"location accessible-contrast-color-location\">\n",
      "   Poole BH12\n",
      "  </span>\n",
      "  <span>\n",
      "   <a class=\"more_loc\" href=\"/addlLoc/redirect?tk=1esnt00akstpf801&amp;jk=c9265df94c27dd48&amp;dest=%2Fjobs%3Fq%3Dcleaner%26l%3Ddorset%26rbt%3DCleaner%26rbc%3DO.C.S.%26jtid%3Df83ef51bdfb25165%26jcid%3D895f383106baa1fa%26sort%3Ddate%26grp%3Dtcl\" onmousedown=\"ptk('addlloc');\" rel=\"nofollow\">\n",
      "    +1 location\n",
      "   </a>\n",
      "  </span>\n",
      " </div>\n",
      " <div class=\"salarySnippet salarySnippetDemphasizeholisticSalary\">\n",
      "  <span class=\"salary no-wrap\">\n",
      "   <span class=\"salaryText\">\n",
      "    £8.72 an hour\n",
      "   </span>\n",
      "  </span>\n",
      " </div>\n",
      " <div class=\"summary\">\n",
      "  <ul style=\"list-style-type:circle;margin-top: 0px;margin-bottom: 0px;padding-left:20px;\">\n",
      "   <li>\n",
      "    Your main aim will be to carry out a range of cleaning activities including mopping, sweeping, dusting, emptying bins and cleaning wash rooms.\n",
      "   </li>\n",
      "  </ul>\n",
      " </div>\n",
      " <div class=\"jobsearch-SerpJobCard-footer\">\n",
      "  <div class=\"jobsearch-SerpJobCard-footerActions\">\n",
      "   <div class=\"result-link-bar-container\">\n",
      "    <div class=\"result-link-bar\">\n",
      "     <span class=\"date\">\n",
      "      Today\n",
      "     </span>\n",
      "     <div class=\"tt_set\" id=\"tt_set_0\">\n",
      "      <div class=\"job-reaction\">\n",
      "       <button aria-expanded=\"false\" aria-haspopup=\"true\" aria-label=\"save or dislike\" class=\"job-reaction-kebab\" data-ol-has-click-handler=\"\" onclick=\"toggleKebabMenu('c9265df94c27dd48', false, event); return false;\" tabindex=\"0\">\n",
      "       </button>\n",
      "       <span class=\"job-reaction-kebab-menu\">\n",
      "        <button class=\"job-reaction-kebab-item job-reaction-save\" data-ol-has-click-handler=\"\" onclick=\"changeJobState('c9265df94c27dd48', 'save', 'linkbar', false, '');return false;\">\n",
      "         <svg focusable=\"false\" height=\"16\" viewbox=\"0 0 24 24\" width=\"16\">\n",
      "          <g>\n",
      "           <path d=\"M16.5,3A6,6,0,0,0,12,5.09,6,6,0,0,0,7.5,3,5.45,5.45,0,0,0,2,8.5C2,12.28,5.4,15.36,10.55,20L12,21.35,13.45,20C18.6,15.36,22,12.28,22,8.5A5.45,5.45,0,0,0,16.5,3ZM12.1,18.55l-0.1.1-0.1-.1C7.14,14.24,4,11.39,4,8.5A3.42,3.42,0,0,1,7.5,5a3.91,3.91,0,0,1,3.57,2.36h1.87A3.88,3.88,0,0,1,16.5,5,3.42,3.42,0,0,1,20,8.5C20,11.39,16.86,14.24,12.1,18.55Z\" fill=\"#2d2d2d\">\n",
      "           </path>\n",
      "          </g>\n",
      "         </svg>\n",
      "         <span class=\"job-reaction-kebab-item-text\">\n",
      "          Save job\n",
      "         </span>\n",
      "        </button>\n",
      "        <button class=\"job-reaction-kebab-item job-reaction-dislike\" data-ol-has-click-handler=\"\" onclick=\"dislikeJob(false, false, 'c9265df94c27dd48', 'unsave', 'linkbar', false, '');\">\n",
      "         <span class=\"job-reaction-dislike-icon\">\n",
      "         </span>\n",
      "         <span class=\"job-reaction-kebab-item-text\">\n",
      "          Not interested\n",
      "         </span>\n",
      "        </button>\n",
      "        <button class=\"job-reaction-kebab-item job-reaction-report\" onclick=\"reportJob('c9265df94c27dd48');\">\n",
      "         <span class=\"job-reaction-report-icon\">\n",
      "         </span>\n",
      "         <span class=\"job-reaction-kebab-item-text\">\n",
      "          Report job\n",
      "         </span>\n",
      "        </button>\n",
      "       </span>\n",
      "      </div>\n",
      "      <span class=\"result-link-bar-separator\">\n",
      "       ·\n",
      "      </span>\n",
      "      <a class=\"sl resultLink save-job-link\" href=\"#\" id=\"sj_c9265df94c27dd48\" onclick=\"changeJobState('c9265df94c27dd48', 'save', 'linkbar', false, ''); return false;\" title=\"Save this job to my.indeed\">\n",
      "       Save job\n",
      "      </a>\n",
      "      <span class=\"result-link-bar-separator\">\n",
      "       ·\n",
      "      </span>\n",
      "      <button aria-expanded=\"false\" class=\"sl resultLink more-link\" id=\"tog_0\" onclick=\"toggleMoreLinks('c9265df94c27dd48', '0'); return false;\">\n",
      "       More...\n",
      "      </button>\n",
      "     </div>\n",
      "     <script>\n",
      "      if (!window['result_c9265df94c27dd48']) {window['result_c9265df94c27dd48'] = {};}window['result_c9265df94c27dd48']['showSource'] = false; window['result_c9265df94c27dd48']['source'] = \"O.C.S.\"; window['result_c9265df94c27dd48']['loggedIn'] = false; window['result_c9265df94c27dd48']['showMyJobsLinks'] = false;window['result_c9265df94c27dd48']['undoAction'] = \"unsave\";window['result_c9265df94c27dd48']['relativeJobAge'] = \"Today\";window['result_c9265df94c27dd48']['jobKey'] = \"c9265df94c27dd48\"; window['result_c9265df94c27dd48']['myIndeedAvailable'] = true; window['result_c9265df94c27dd48']['showMoreActionsLink'] = window['result_c9265df94c27dd48']['showMoreActionsLink'] || true; window['result_c9265df94c27dd48']['resultNumber'] = 0; window['result_c9265df94c27dd48']['jobStateChangedToSaved'] = false; window['result_c9265df94c27dd48']['searchState'] = \"q=cleaner&amp;l=dorset&amp;sort=date&amp;start=0\"; window['result_c9265df94c27dd48']['basicPermaLink'] = \"https://www.indeed.co.uk\"; window['result_c9265df94c27dd48']['saveJobFailed'] = false; window['result_c9265df94c27dd48']['removeJobFailed'] = false; window['result_c9265df94c27dd48']['requestPending'] = false; window['result_c9265df94c27dd48']['currentPage'] = \"serp\"; window['result_c9265df94c27dd48']['sponsored'] = false;window['result_c9265df94c27dd48']['reportJobButtonEnabled'] = false; window['result_c9265df94c27dd48']['showMyJobsHired'] = false; window['result_c9265df94c27dd48']['showSaveForSponsored'] = false; window['result_c9265df94c27dd48']['showJobAge'] = true; window['result_c9265df94c27dd48']['showHolisticCard'] = true; window['result_c9265df94c27dd48']['showDislike'] = true; window['result_c9265df94c27dd48']['showKebab'] = true; window['result_c9265df94c27dd48']['showReport'] = true;\n",
      "     </script>\n",
      "    </div>\n",
      "   </div>\n",
      "  </div>\n",
      " </div>\n",
      " <div class=\"tab-container\">\n",
      "  <div class=\"more-links-container result-tab\" id=\"tt_display_0\" style=\"display:none;\">\n",
      "   <div class=\"more_actions\" id=\"more_0\">\n",
      "    <ul>\n",
      "     <li>\n",
      "      <span class=\"mat\">\n",
      "       View all\n",
      "       <a href=\"/O.c.s.-jobs\">\n",
      "        O.C.S. jobs\n",
      "       </a>\n",
      "       -\n",
      "       <a href=\"/jobs-in-Poole\">\n",
      "        Poole jobs\n",
      "       </a>\n",
      "      </span>\n",
      "     </li>\n",
      "     <li>\n",
      "      <span class=\"mat\">\n",
      "       Salary Search:\n",
      "       <a href=\"/salaries/cleaner-Salaries,-Poole-ENG\" onmousedown=\"this.href = appendParamsOnce(this.href, '?campaignid=serp-more&amp;fromjk=c9265df94c27dd48&amp;from=serp-more');\">\n",
      "        Cleaner salaries in Poole\n",
      "       </a>\n",
      "      </span>\n",
      "     </li>\n",
      "     <li>\n",
      "      <span class=\"mat\">\n",
      "       Learn more about working at\n",
      "       <a href=\"/cmp/O.c.s.\" onmousedown=\"this.href = appendParamsOnce(this.href, '?fromjk=c9265df94c27dd48&amp;from=serp-more&amp;campaignid=serp-more&amp;jcid=895f383106baa1fa');\">\n",
      "        O.C.S.\n",
      "       </a>\n",
      "      </span>\n",
      "     </li>\n",
      "     <li>\n",
      "      <span class=\"mat\">\n",
      "       See popular\n",
      "       <a href=\"/cmp/O.c.s./faq\" onmousedown=\"this.href = appendParamsOnce(this.href, '?from=serp-more&amp;campaignid=serp-more&amp;fromjk=c9265df94c27dd48&amp;jcid=895f383106baa1fa');\">\n",
      "        questions &amp; answers about O.C.S.\n",
      "       </a>\n",
      "      </span>\n",
      "     </li>\n",
      "    </ul>\n",
      "   </div>\n",
      "   <a class=\"close-link closeLink\" href=\"#\" onclick=\"toggleMoreLinks('c9265df94c27dd48'); return false;\" title=\"Close\">\n",
      "   </a>\n",
      "  </div>\n",
      "  <div class=\"dya-container result-tab\">\n",
      "  </div>\n",
      "  <div class=\"tellafriend-container result-tab email_job_content\">\n",
      "  </div>\n",
      "  <div class=\"sign-in-container result-tab\">\n",
      "  </div>\n",
      " </div>\n",
      "</div>\n",
      "\n"
     ]
    }
   ],
   "source": [
    "import requests\n",
    "from bs4 import BeautifulSoup\n",
    "import pandas as pd\n",
    "import urllib\n",
    "import lxml\n",
    "\n",
    "#job_title = input(\"Please enter a job title that you want to search indeed for:\")\n",
    "#location = input(\"Please enter a location:\")\n",
    "#pages_wanted = int(input(\"Number of pages would you like to search Indeed.co.uk for:\"))\n",
    "\n",
    "job_title = 'cleaner'\n",
    "location = 'dorset'\n",
    "\n",
    "\n",
    "page_num = 1\n",
    "Vars = {'q' : job_title, 'l' : location, 'sort' : 'date', 'start' : 10*(page_num-1)}\n",
    "url = ('https://www.indeed.co.uk/jobs?' + urllib.parse.urlencode(Vars))\n",
    "print(url)\n",
    "page = requests.get(url)\n",
    "soup = BeautifulSoup(page.content, \"lxml\")\n",
    "print(soup.find('div', class_='jobsearch-SerpJobCard').prettify())"
   ]
  },
  {
   "cell_type": "markdown",
   "metadata": {},
   "source": [
    "<div class=\"jobsearch-SerpJobCard unifiedRow row result clickcard\" id=\"p_c9265df94c27dd48\" data-jk=\"c9265df94c27dd48\" data-tn-component=\"organicJob\" wfd-id=\"575\">\n",
    "\n",
    "<h2 class=\"title\">\n",
    "<a target=\"_blank\" id=\"jl_c9265df94c27dd48\" href=\"/rc/clk?jk=c9265df94c27dd48&amp;fccid=8dfc9a51fd632bc0&amp;vjs=3\" onmousedown=\"return rclk(this,jobmap[0],1);\" onclick=\"setRefineByCookie([]); return rclk(this,jobmap[0],true,1);\" rel=\"noopener nofollow\" title=\"Cleaner\" class=\"jobtitle turnstileLink \" data-tn-element=\"jobTitle\">\n",
    "<b>Cleaner</b></a>\n",
    "\n",
    "<span class=\"new\" wfd-id=\"605\">new</span></h2>\n",
    "\n",
    "<div class=\"sjcl\" wfd-id=\"597\">\n",
    "<div wfd-id=\"601\">\n",
    "<span class=\"company\" wfd-id=\"604\">\n",
    "<a data-tn-element=\"companyName\" class=\"turnstileLink\" target=\"_blank\" href=\"/cmp/O.c.s.\" onmousedown=\"this.href = appendParamsOnce(this.href, 'from=SERP&amp;campaignid=serp-linkcompanyname&amp;fromjk=c9265df94c27dd48&amp;jcid=895f383106baa1fa')\" rel=\"noopener\">\n",
    "O.C.S.</a></span>\n",
    "\n",
    "<span class=\"ratingsDisplay\" wfd-id=\"602\">\n",
    "<a data-tn-variant=\"cmplinktst2\" class=\"ratingNumber\" href=\"/cmp/O.c.s./reviews\" title=\"O.c.s. reviews\" onmousedown=\"this.href = appendParamsOnce(this.href, '?campaignid=cmplinktst2&amp;from=SERP&amp;jt=Cleaner&amp;fromjk=c9265df94c27dd48&amp;jcid=895f383106baa1fa');\" target=\"_blank\" rel=\"noopener\">\n",
    "<span class=\"ratingsContent\" wfd-id=\"603\">\n",
    "3.7<svg width=\"12px\" height=\"12px\" role=\"img\" class=\"starIcon\">\n",
    "<g>\n",
    "<path style=\"fill: #FFB103\" d=\"M 12.00,4.34 C 12.00,4.34 7.69,3.97 7.69,3.97 7.69,3.97 6.00,0.00 6.00,0.00 6.00,0.00 4.31,3.98 4.31,3.98 4.31,3.98 0.00,4.34 0.00,4.34 0.00,4.34 3.28,7.18 3.28,7.18 3.28,7.18 2.29,11.40 2.29,11.40 2.29,11.40 6.00,9.16 6.00,9.16 6.00,9.16 9.71,11.40 9.71,11.40 9.71,11.40 8.73,7.18 8.73,7.18 8.73,7.18 12.00,4.34 12.00,4.34 Z\"></path>\n",
    "</g>\n",
    "</svg>\n",
    "</span>\n",
    "</a>\n",
    "</span>\n",
    "</div>\n",
    "<div id=\"recJobLoc_c9265df94c27dd48\" class=\"recJobLoc\" data-rc-loc=\"Poole\" style=\"display: none\" wfd-id=\"600\"></div>\n",
    "<span class=\"location accessible-contrast-color-location\" wfd-id=\"599\">Poole BH12</span>\n",
    "<span wfd-id=\"598\">\n",
    "<a rel=\"nofollow\" class=\"more_loc\" onmousedown=\"ptk('addlloc');\" href=\"/addlLoc/redirect?tk=1esnq8lohstlq800&amp;jk=c9265df94c27dd48&amp;dest=%2Fjobs%3Fq%3Dcleaner%26l%3Ddorset%26rbt%3DCleaner%26rbc%3DO.C.S.%26jtid%3Df83ef51bdfb25165%26jcid%3D895f383106baa1fa%26sort%3Ddate%26grp%3Dtcl\">\n",
    "+1 location</a>\n",
    "</span>\n",
    "</div>\n",
    "\n",
    "<div class=\"salarySnippet salarySnippetDemphasizeholisticSalary\" wfd-id=\"594\">\n",
    "<span class=\"salary no-wrap\" wfd-id=\"595\">\n",
    "<span class=\"salaryText\" wfd-id=\"596\">\n",
    "£8.72 an hour</span>\n",
    "</span>\n",
    "</div>\n",
    "<div class=\"summary\" wfd-id=\"591\">\n",
    "<ul style=\"list-style-type:circle;margin-top: 0px;margin-bottom: 0px;padding-left:20px;\" wfd-id=\"592\"> \n",
    " <li wfd-id=\"593\">Your main aim will be to carry out a range of cleaning activities including mopping, sweeping, dusting, emptying bins and cleaning wash rooms.</li>\n",
    "</ul></div>\n",
    "\n",
    "<div class=\"jobsearch-SerpJobCard-footer\" wfd-id=\"581\">\n",
    "<div class=\"jobsearch-SerpJobCard-footerActions\" wfd-id=\"582\">\n",
    "\n",
    "<div class=\"result-link-bar-container\" wfd-id=\"583\">\n",
    "<div class=\"result-link-bar\" wfd-id=\"584\"><span class=\"date \" wfd-id=\"590\">Today</span><div id=\"tt_set_0\" class=\"tt_set\" wfd-id=\"585\"><div class=\"job-reaction\" wfd-id=\"588\"><button class=\"job-reaction-kebab\" aria-haspopup=\"true\" aria-expanded=\"false\" data-ol-has-click-handler=\"\" tabindex=\"0\" aria-label=\"save or dislike\" onclick=\"toggleKebabMenu('c9265df94c27dd48', false, event); return false;\" wfd-id=\"822\"></button><span class=\"job-reaction-kebab-menu\" wfd-id=\"589\"><button class=\"job-reaction-kebab-item job-reaction-save\" onclick=\"changeJobState('c9265df94c27dd48', 'save', 'linkbar', false, '');return false;\" data-ol-has-click-handler=\"\" wfd-id=\"821\"><svg focusable=\"false\" viewBox=\"0 0 24 24\" height=\"16\" width=\"16\"><g><path fill=\"#2d2d2d\" d=\"M16.5,3A6,6,0,0,0,12,5.09,6,6,0,0,0,7.5,3,5.45,5.45,0,0,0,2,8.5C2,12.28,5.4,15.36,10.55,20L12,21.35,13.45,20C18.6,15.36,22,12.28,22,8.5A5.45,5.45,0,0,0,16.5,3ZM12.1,18.55l-0.1.1-0.1-.1C7.14,14.24,4,11.39,4,8.5A3.42,3.42,0,0,1,7.5,5a3.91,3.91,0,0,1,3.57,2.36h1.87A3.88,3.88,0,0,1,16.5,5,3.42,3.42,0,0,1,20,8.5C20,11.39,16.86,14.24,12.1,18.55Z\"></path></g></svg><span class=\"job-reaction-kebab-item-text\">Save job</span></button><button class=\"job-reaction-kebab-item job-reaction-dislike\" onclick=\"dislikeJob(false, false, 'c9265df94c27dd48', 'unsave', 'linkbar', false, '');\" data-ol-has-click-handler=\"\" wfd-id=\"820\"><span class=\"job-reaction-dislike-icon\"></span><span class=\"job-reaction-kebab-item-text\">Not interested</span></button><button class=\"job-reaction-kebab-item job-reaction-report\" onclick=\"reportJob('c9265df94c27dd48');\" wfd-id=\"819\"><span class=\"job-reaction-report-icon\"></span><span class=\"job-reaction-kebab-item-text\">Report job</span></button></span></div><span class=\"result-link-bar-separator\" wfd-id=\"587\">·</span><a id=\"sj_c9265df94c27dd48\" href=\"#\" class=\"sl resultLink save-job-link \" onclick=\"changeJobState('c9265df94c27dd48', 'save', 'linkbar', false, ''); return false;\" title=\"Save this job to my.indeed\">Save job</a><span class=\"result-link-bar-separator\" wfd-id=\"586\">·</span><button id=\"tog_0\" class=\"sl resultLink more-link \" onclick=\"toggleMoreLinks('c9265df94c27dd48', '0'); return false;\" aria-expanded=\"false\" wfd-id=\"818\">More...</button></div><script>if (!window['result_c9265df94c27dd48']) {window['result_c9265df94c27dd48'] = {};}window['result_c9265df94c27dd48']['showSource'] = false; window['result_c9265df94c27dd48']['source'] = \"O.C.S.\"; window['result_c9265df94c27dd48']['loggedIn'] = false; window['result_c9265df94c27dd48']['showMyJobsLinks'] = false;window['result_c9265df94c27dd48']['undoAction'] = \"unsave\";window['result_c9265df94c27dd48']['relativeJobAge'] = \"Today\";window['result_c9265df94c27dd48']['jobKey'] = \"c9265df94c27dd48\"; window['result_c9265df94c27dd48']['myIndeedAvailable'] = true; window['result_c9265df94c27dd48']['showMoreActionsLink'] = window['result_c9265df94c27dd48']['showMoreActionsLink'] || true; window['result_c9265df94c27dd48']['resultNumber'] = 0; window['result_c9265df94c27dd48']['jobStateChangedToSaved'] = false; window['result_c9265df94c27dd48']['searchState'] = \"q=cleaner&amp;l=dorset&amp;sort=date&amp;start=0\"; window['result_c9265df94c27dd48']['basicPermaLink'] = \"https://www.indeed.co.uk\"; window['result_c9265df94c27dd48']['saveJobFailed'] = false; window['result_c9265df94c27dd48']['removeJobFailed'] = false; window['result_c9265df94c27dd48']['requestPending'] = false; window['result_c9265df94c27dd48']['currentPage'] = \"serp\"; window['result_c9265df94c27dd48']['sponsored'] = false;window['result_c9265df94c27dd48']['reportJobButtonEnabled'] = false; window['result_c9265df94c27dd48']['showMyJobsHired'] = false; window['result_c9265df94c27dd48']['showSaveForSponsored'] = false; window['result_c9265df94c27dd48']['showJobAge'] = true; window['result_c9265df94c27dd48']['showHolisticCard'] = true; window['result_c9265df94c27dd48']['showDislike'] = true; window['result_c9265df94c27dd48']['showKebab'] = true; window['result_c9265df94c27dd48']['showReport'] = true;</script></div></div>\n",
    "</div>\n",
    "</div>\n",
    "\n",
    "\n",
    "<div class=\"tab-container\" wfd-id=\"576\">\n",
    "<div id=\"tt_display_0\" class=\"more-links-container result-tab\" style=\"display:none;\" wfd-id=\"580\"><div id=\"more_0\" class=\"more_actions\"><ul><li><span class=\"mat\">View all <a href=\"/O.c.s.-jobs\">O.C.S. jobs</a> - <a href=\"/jobs-in-Poole\">Poole jobs</a></span></li><li><span class=\"mat\">Salary Search: <a href=\"/salaries/cleaner-Salaries,-Poole-ENG\" onmousedown=\"this.href = appendParamsOnce(this.href, '?campaignid=serp-more&amp;fromjk=c9265df94c27dd48&amp;from=serp-more');\">Cleaner salaries in Poole</a></span></li><li><span class=\"mat\">Learn more about working at <a href=\"/cmp/O.c.s.\" onmousedown=\"this.href = appendParamsOnce(this.href, '?fromjk=c9265df94c27dd48&amp;from=serp-more&amp;campaignid=serp-more&amp;jcid=895f383106baa1fa');\">O.C.S.</a></span></li><li><span class=\"mat\">See popular <a href=\"/cmp/O.c.s./faq\" onmousedown=\"this.href = appendParamsOnce(this.href, '?from=serp-more&amp;campaignid=serp-more&amp;fromjk=c9265df94c27dd48&amp;jcid=895f383106baa1fa');\">questions &amp; answers about O.C.S.</a></span></li></ul></div><a class=\"close-link closeLink\" title=\"Close\" href=\"#\" onclick=\"toggleMoreLinks('c9265df94c27dd48'); return false;\"></a></div><div class=\"dya-container result-tab\" wfd-id=\"579\"></div>\n",
    "<div class=\"tellafriend-container result-tab email_job_content\" wfd-id=\"578\"></div>\n",
    "<div class=\"sign-in-container result-tab\" wfd-id=\"577\"></div>\n",
    "</div>\n",
    "</div>"
   ]
  },
  {
   "cell_type": "code",
   "execution_count": 5,
   "metadata": {},
   "outputs": [
    {
     "data": {
      "text/plain": [
       "'Cleaner'"
      ]
     },
     "execution_count": 5,
     "metadata": {},
     "output_type": "execute_result"
    }
   ],
   "source": [
    "job_elem = soup.find('div', class_='jobsearch-SerpJobCard')\n",
    "header = job_elem.find('h2', class_='title')\n",
    "header.a.b.string"
   ]
  },
  {
   "cell_type": "code",
   "execution_count": 6,
   "metadata": {},
   "outputs": [
    {
     "data": {
      "text/plain": [
       "'Cleaner\\n'"
      ]
     },
     "execution_count": 6,
     "metadata": {},
     "output_type": "execute_result"
    }
   ],
   "source": [
    "job_elem.find('h2', class_='title').text.strip().strip('new')"
   ]
  },
  {
   "cell_type": "code",
   "execution_count": 7,
   "metadata": {},
   "outputs": [
    {
     "data": {
      "text/plain": [
       "'Cleaner'"
      ]
     },
     "execution_count": 7,
     "metadata": {},
     "output_type": "execute_result"
    }
   ],
   "source": [
    "job_elem.h2.a.b.string"
   ]
  },
  {
   "cell_type": "code",
   "execution_count": 8,
   "metadata": {},
   "outputs": [
    {
     "data": {
      "text/plain": [
       "'company'"
      ]
     },
     "execution_count": 8,
     "metadata": {},
     "output_type": "execute_result"
    }
   ],
   "source": [
    "job_elem.div.div.span['class'][0]"
   ]
  },
  {
   "cell_type": "code",
   "execution_count": 9,
   "metadata": {},
   "outputs": [
    {
     "data": {
      "text/plain": [
       "'O.C.S.'"
      ]
     },
     "execution_count": 9,
     "metadata": {},
     "output_type": "execute_result"
    }
   ],
   "source": [
    "job_elem.find('span', class_='company').text.strip()"
   ]
  },
  {
   "cell_type": "code",
   "execution_count": 10,
   "metadata": {},
   "outputs": [
    {
     "data": {
      "text/plain": [
       "'Today'"
      ]
     },
     "execution_count": 10,
     "metadata": {},
     "output_type": "execute_result"
    }
   ],
   "source": [
    "job_elem.find('span', class_= 'date').string"
   ]
  },
  {
   "cell_type": "code",
   "execution_count": 12,
   "metadata": {},
   "outputs": [
    {
     "name": "stdout",
     "output_type": "stream",
     "text": [
      "<class 'pandas.core.frame.DataFrame'>\n",
      "RangeIndex: 15 entries, 0 to 14\n",
      "Data columns (total 3 columns):\n",
      " #   Column     Non-Null Count  Dtype \n",
      "---  ------     --------------  ----- \n",
      " 0   titles     15 non-null     object\n",
      " 1   companies  15 non-null     object\n",
      " 2   dates      15 non-null     object\n",
      "dtypes: object(3)\n",
      "memory usage: 488.0+ bytes\n"
     ]
    },
    {
     "data": {
      "text/html": [
       "<div>\n",
       "<style scoped>\n",
       "    .dataframe tbody tr th:only-of-type {\n",
       "        vertical-align: middle;\n",
       "    }\n",
       "\n",
       "    .dataframe tbody tr th {\n",
       "        vertical-align: top;\n",
       "    }\n",
       "\n",
       "    .dataframe thead th {\n",
       "        text-align: right;\n",
       "    }\n",
       "</style>\n",
       "<table border=\"1\" class=\"dataframe\">\n",
       "  <thead>\n",
       "    <tr style=\"text-align: right;\">\n",
       "      <th></th>\n",
       "      <th>titles</th>\n",
       "      <th>companies</th>\n",
       "      <th>dates</th>\n",
       "    </tr>\n",
       "  </thead>\n",
       "  <tbody>\n",
       "    <tr>\n",
       "      <th>0</th>\n",
       "      <td>Cleaner</td>\n",
       "      <td>O.C.S.</td>\n",
       "      <td>Today</td>\n",
       "    </tr>\n",
       "    <tr>\n",
       "      <th>1</th>\n",
       "      <td>Cleaning team member</td>\n",
       "      <td>Parkdean Resorts West bay</td>\n",
       "      <td>Today</td>\n",
       "    </tr>\n",
       "    <tr>\n",
       "      <th>2</th>\n",
       "      <td>Domestic Violence and Abuse Worker – Isolated ...</td>\n",
       "      <td>The YOU Trust</td>\n",
       "      <td>1 day ago</td>\n",
       "    </tr>\n",
       "    <tr>\n",
       "      <th>3</th>\n",
       "      <td>School Cleaner - St Osmund’s Middle School</td>\n",
       "      <td>External</td>\n",
       "      <td>1 day ago</td>\n",
       "    </tr>\n",
       "    <tr>\n",
       "      <th>4</th>\n",
       "      <td>Domestic Abuse Support Worker - North Dorset</td>\n",
       "      <td>The YOU Trust</td>\n",
       "      <td>1 day ago</td>\n",
       "    </tr>\n",
       "    <tr>\n",
       "      <th>5</th>\n",
       "      <td>Housekeeping Team Member</td>\n",
       "      <td>Premier Inn</td>\n",
       "      <td>1 day ago</td>\n",
       "    </tr>\n",
       "    <tr>\n",
       "      <th>6</th>\n",
       "      <td>Housekeeping Assistant</td>\n",
       "      <td>Luxurycare Group</td>\n",
       "      <td>1 day ago</td>\n",
       "    </tr>\n",
       "    <tr>\n",
       "      <th>7</th>\n",
       "      <td>Night Train Cleaner - Bournemouth - £8.72-£14....</td>\n",
       "      <td>Evolution Recruitnemt</td>\n",
       "      <td>1 day ago</td>\n",
       "    </tr>\n",
       "    <tr>\n",
       "      <th>8</th>\n",
       "      <td>Kitchen Porter</td>\n",
       "      <td>Kitchen - Summer Lodge Country House</td>\n",
       "      <td>1 day ago</td>\n",
       "    </tr>\n",
       "    <tr>\n",
       "      <th>9</th>\n",
       "      <td>Orderly/Porter - Acute Medical Unit</td>\n",
       "      <td>Royal Bournemouth and Christchurch Hospitals N...</td>\n",
       "      <td>1 day ago</td>\n",
       "    </tr>\n",
       "    <tr>\n",
       "      <th>10</th>\n",
       "      <td>Full Time Industrial Cleaner</td>\n",
       "      <td>TeamJobs</td>\n",
       "      <td>1 day ago</td>\n",
       "    </tr>\n",
       "    <tr>\n",
       "      <th>11</th>\n",
       "      <td>Kitchen Porter</td>\n",
       "      <td>Rick Stein Sandbanks</td>\n",
       "      <td>1 day ago</td>\n",
       "    </tr>\n",
       "    <tr>\n",
       "      <th>12</th>\n",
       "      <td>Orderly/Porter - Acute Medical Unit</td>\n",
       "      <td>University Hospitals Dorset NHS Foundation Trust</td>\n",
       "      <td>1 day ago</td>\n",
       "    </tr>\n",
       "    <tr>\n",
       "      <th>13</th>\n",
       "      <td>Housekeeping Assistant</td>\n",
       "      <td>Bupa Care Homes</td>\n",
       "      <td>1 day ago</td>\n",
       "    </tr>\n",
       "    <tr>\n",
       "      <th>14</th>\n",
       "      <td>Cleaning Operativ</td>\n",
       "      <td>Follow The shine ltd</td>\n",
       "      <td>1 day ago</td>\n",
       "    </tr>\n",
       "  </tbody>\n",
       "</table>\n",
       "</div>"
      ],
      "text/plain": [
       "                                               titles  \\\n",
       "0                                             Cleaner   \n",
       "1                                Cleaning team member   \n",
       "2   Domestic Violence and Abuse Worker – Isolated ...   \n",
       "3          School Cleaner - St Osmund’s Middle School   \n",
       "4        Domestic Abuse Support Worker - North Dorset   \n",
       "5                            Housekeeping Team Member   \n",
       "6                              Housekeeping Assistant   \n",
       "7   Night Train Cleaner - Bournemouth - £8.72-£14....   \n",
       "8                                      Kitchen Porter   \n",
       "9                 Orderly/Porter - Acute Medical Unit   \n",
       "10                       Full Time Industrial Cleaner   \n",
       "11                                     Kitchen Porter   \n",
       "12                Orderly/Porter - Acute Medical Unit   \n",
       "13                             Housekeeping Assistant   \n",
       "14                                  Cleaning Operativ   \n",
       "\n",
       "                                            companies      dates  \n",
       "0                                              O.C.S.      Today  \n",
       "1                           Parkdean Resorts West bay      Today  \n",
       "2                                       The YOU Trust  1 day ago  \n",
       "3                                            External  1 day ago  \n",
       "4                                       The YOU Trust  1 day ago  \n",
       "5                                         Premier Inn  1 day ago  \n",
       "6                                    Luxurycare Group  1 day ago  \n",
       "7                               Evolution Recruitnemt  1 day ago  \n",
       "8                Kitchen - Summer Lodge Country House  1 day ago  \n",
       "9   Royal Bournemouth and Christchurch Hospitals N...  1 day ago  \n",
       "10                                           TeamJobs  1 day ago  \n",
       "11                               Rick Stein Sandbanks  1 day ago  \n",
       "12   University Hospitals Dorset NHS Foundation Trust  1 day ago  \n",
       "13                                    Bupa Care Homes  1 day ago  \n",
       "14                               Follow The shine ltd  1 day ago  "
      ]
     },
     "execution_count": 12,
     "metadata": {},
     "output_type": "execute_result"
    }
   ],
   "source": [
    "job_elems = soup.find_all('div', class_='jobsearch-SerpJobCard')\n",
    "    \n",
    "titles = []\n",
    "companies = []\n",
    "dates = []\n",
    "for job_elem in job_elems:\n",
    "    #print(job_elem.find('h2', class_='title').text.strip().strip('new'))\n",
    "    #print(job_elem.find('span', class_='company').text.strip())\n",
    "    #print(job_elem.find('span', class_= 'date').string)\n",
    "    titles.append(job_elem.find('h2', class_='title').text.strip().strip('\\nnew'))\n",
    "    companies.append(job_elem.find('span', class_='company').text.strip())\n",
    "    dates.append(job_elem.find('span', class_= 'date').string)\n",
    "titles\n",
    "\n",
    "df = pd.DataFrame({'titles' : titles, 'companies' : companies, 'dates' : dates})\n",
    "df.info()\n",
    "df"
   ]
  },
  {
   "cell_type": "code",
   "execution_count": null,
   "metadata": {},
   "outputs": [],
   "source": []
  }
 ],
 "metadata": {
  "kernelspec": {
   "display_name": "Python 3",
   "language": "python",
   "name": "python3"
  },
  "language_info": {
   "codemirror_mode": {
    "name": "ipython",
    "version": 3
   },
   "file_extension": ".py",
   "mimetype": "text/x-python",
   "name": "python",
   "nbconvert_exporter": "python",
   "pygments_lexer": "ipython3",
   "version": "3.8.3"
  }
 },
 "nbformat": 4,
 "nbformat_minor": 4
}
